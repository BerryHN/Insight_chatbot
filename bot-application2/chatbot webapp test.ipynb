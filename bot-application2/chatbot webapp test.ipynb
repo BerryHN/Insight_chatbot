{
 "cells": [
  {
   "cell_type": "code",
   "execution_count": 1,
   "metadata": {},
   "outputs": [
    {
     "name": "stdout",
     "output_type": "stream",
     "text": [
      " * Serving Flask app \"__main__\" (lazy loading)\n",
      " * Environment: production\n",
      "   WARNING: Do not use the development server in a production environment.\n",
      "   Use a production WSGI server instead.\n",
      " * Debug mode: on\n"
     ]
    },
    {
     "name": "stderr",
     "output_type": "stream",
     "text": [
      " * Running on http://127.0.0.1:8080/ (Press CTRL+C to quit)\n",
      "127.0.0.1 - - [14/May/2019 02:16:58] \"\u001b[37mPOST /chat HTTP/1.1\u001b[0m\" 200 -\n"
     ]
    },
    {
     "name": "stdout",
     "output_type": "stream",
     "text": [
      "{'intent': {'name': 'info_search', 'confidence': 0.6842945567543022}, 'entities': [], 'intent_ranking': [{'name': 'info_search', 'confidence': 0.6842945567543022}, {'name': 'affirm', 'confidence': 0.08173914112045781}, {'name': 'complaint', 'confidence': 0.06724001275156703}, {'name': 'goodbye', 'confidence': 0.066305254252745}, {'name': 'order_product', 'confidence': 0.06114357944732845}, {'name': 'greet', 'confidence': 0.03927745567359945}], 'text': 'show me list of service', 'project': 'default', 'model': 'model_20190514-014455'}\n",
      "\n",
      "Intent info_search, Entities \n"
     ]
    },
    {
     "name": "stderr",
     "output_type": "stream",
     "text": [
      "127.0.0.1 - - [14/May/2019 02:18:43] \"\u001b[37mPOST /chat HTTP/1.1\u001b[0m\" 200 -\n"
     ]
    },
    {
     "name": "stdout",
     "output_type": "stream",
     "text": [
      "{'intent': {'name': 'info_search', 'confidence': 0.5559689799428842}, 'entities': [], 'intent_ranking': [{'name': 'info_search', 'confidence': 0.5559689799428842}, {'name': 'goodbye', 'confidence': 0.1561324497781}, {'name': 'affirm', 'confidence': 0.10369265142868855}, {'name': 'greet', 'confidence': 0.08010828078219359}, {'name': 'complaint', 'confidence': 0.07029619100109949}, {'name': 'order_product', 'confidence': 0.03380144706703382}], 'text': 'show me police', 'project': 'default', 'model': 'model_20190514-014455'}\n",
      "\n",
      "Intent info_search, Entities \n"
     ]
    }
   ],
   "source": [
    "from flask import Flask\n",
    "from flask import render_template,jsonify,request\n",
    "import requests\n",
    "# from models import *\n",
    "from response import *\n",
    "import random\n",
    "\n",
    "entities_list = ['epf','immigration department', 'inland revenue board','police']\n",
    "\n",
    "\n",
    "app = Flask(__name__)\n",
    "app.secret_key = '12345'\n",
    "\n",
    "@app.route('/')\n",
    "def index():\n",
    "    return render_template('index.html')\n",
    "\n",
    "\n",
    "@app.route('/chat',methods=['POST'])\n",
    "def chat():\n",
    "    try:\n",
    "        user_message = request.form[\"text\"]\n",
    "        response = requests.get(\"http://localhost:5000/parse\",params={\"q\":user_message})\n",
    "        response = response.json()\n",
    "        print(response)\n",
    "        # entities = response.get(\"entities\")\n",
    "\n",
    "        entities = [s for s in entities_list if(s in user_message)] \n",
    "\n",
    "\n",
    "        print(entities)\n",
    "\n",
    "        intent = response.get(\"intent\")\n",
    "        print(\"Intent {}, Entities {}\".format(intent['name'],entities))\n",
    "        if intent['name'] == \"info_search\":\n",
    "            response_text = info_search(entities)\n",
    "        elif intent['name'] == \"complaint\":\n",
    "            response_text = complaint(entities)\n",
    "        elif intent['name'] == \"affirm\":\n",
    "            response_text = affirm()\n",
    "        elif intent['name'] == \"greet\":\n",
    "            response_text = greeting()\n",
    "        elif intent['name'] == \"goodbye\":\n",
    "            response_text = goodbye()\n",
    "        else:\n",
    "            response_text = \"Sorry, can not help at this time\"\n",
    "        return jsonify({\"status\":\"success\",\"response\":response_text})\n",
    "        #return 'OK'\n",
    "    except Exception as e:\n",
    "        print(e)\n",
    "        return jsonify({\"status\":\"success\",\"response\":\"Sorry I am not trained to do that yet...\"})\n",
    "\n",
    "app.config[\"DEBUG\"] = True\n",
    "if __name__ == \"__main__\":\n",
    "    app.run(port=8080, debug=True, use_reloader=False)"
   ]
  },
  {
   "cell_type": "code",
   "execution_count": null,
   "metadata": {},
   "outputs": [],
   "source": []
  },
  {
   "cell_type": "code",
   "execution_count": 17,
   "metadata": {},
   "outputs": [
    {
     "name": "stdout",
     "output_type": "stream",
     "text": [
      "['epf', 'police']\n"
     ]
    }
   ],
   "source": [
    "entities_list = ['epf','immigration department', 'inland revenue board','police']\n",
    "\n",
    "user_message = 'i m looking for epf service and police '\n",
    "\n",
    "# if any(user_message in s for s in entities_list):\n",
    "#     entities = s\n",
    "#     print(s)\n",
    "\n",
    "res = [s for s in entities_list if(s in user_message)] \n",
    "\n",
    "\n",
    "print(res)\n",
    "# print(entities)"
   ]
  },
  {
   "cell_type": "code",
   "execution_count": 13,
   "metadata": {
    "scrolled": true
   },
   "outputs": [
    {
     "ename": "SyntaxError",
     "evalue": "invalid syntax (<ipython-input-13-1adcf83f4b2e>, line 1)",
     "output_type": "error",
     "traceback": [
      "\u001b[1;36m  File \u001b[1;32m\"<ipython-input-13-1adcf83f4b2e>\"\u001b[1;36m, line \u001b[1;32m1\u001b[0m\n\u001b[1;33m    s for s in entities_list\u001b[0m\n\u001b[1;37m        ^\u001b[0m\n\u001b[1;31mSyntaxError\u001b[0m\u001b[1;31m:\u001b[0m invalid syntax\n"
     ]
    }
   ],
   "source": [
    "s for s in entities_list"
   ]
  },
  {
   "cell_type": "code",
   "execution_count": null,
   "metadata": {},
   "outputs": [],
   "source": []
  }
 ],
 "metadata": {
  "kernelspec": {
   "display_name": "Python 3",
   "language": "python",
   "name": "python3"
  },
  "language_info": {
   "codemirror_mode": {
    "name": "ipython",
    "version": 3
   },
   "file_extension": ".py",
   "mimetype": "text/x-python",
   "name": "python",
   "nbconvert_exporter": "python",
   "pygments_lexer": "ipython3",
   "version": "3.6.5"
  }
 },
 "nbformat": 4,
 "nbformat_minor": 2
}
